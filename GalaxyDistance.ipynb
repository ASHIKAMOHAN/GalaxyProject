{
 "cells": [
  {
   "cell_type": "code",
   "execution_count": 3,
   "metadata": {},
   "outputs": [],
   "source": [
    "import numpy as np\n",
    "import pandas as pd\n",
    "from sklearn.model_selection import train_test_split\n",
    "from sklearn.metrics import mean_squared_error\n",
    "import tensorflow as tf\n",
    "from tensorflow.keras.models import Sequential\n",
    "from tensorflow.keras.layers import Dense\n",
    "import matplotlib.pyplot as plt\n",
    "import seaborn as sns"
   ]
  },
  {
   "cell_type": "code",
   "execution_count": 1,
   "metadata": {},
   "outputs": [],
   "source": [
    "# Function to load datasets\n",
    "def load_data():\n",
    "    # Load the Happy datasets\n",
    "    happy_a = pd.read_csv('Happy/happy_A.txt', delimiter='\\t')\n",
    "    happy_b = pd.read_csv('Happy/happy_B.txt', delimiter='\\t')\n",
    "    happy_c = pd.read_csv('Happy/happy_C.txt', delimiter='\\t')\n",
    "    happy_d = pd.read_csv('Happy/happy_D.txt', delimiter='\\t')\n",
    "    \n",
    "    # Load the Teddy datasets and skip the first 6 rows\n",
    "    teddy_a = pd.read_csv('Teddy/teddy_A.txt', delimiter='\\t', skiprows=6)\n",
    "    teddy_b = pd.read_csv('Teddy/teddy_B.txt', delimiter='\\t', skiprows=6)\n",
    "    teddy_c = pd.read_csv('Teddy/teddy_C.txt', delimiter='\\t', skiprows=6)\n",
    "    teddy_d = pd.read_csv('Teddy/teddy_D.txt', delimiter='\\t', skiprows=6)\n",
    "    \n",
    "    return happy_a, happy_b, happy_c, happy_d, teddy_a, teddy_b, teddy_c, teddy_d\n",
    "\n",
    "# Load weights\n",
    "def load_weights():\n",
    "    weights_happy_b = pd.read_csv('Happy/weights_for_B.txt', delimiter='\\t', header=None)\n",
    "    weights_happy_c = pd.read_csv('Happy/weights_for_C.txt', delimiter='\\t', header=None)\n",
    "    weights_happy_d = pd.read_csv('Happy/weights_for_D.txt', delimiter='\\t', header=None)\n",
    "    weights_teddy_b = pd.read_csv('Teddy/weights_for_B.txt', delimiter='\\t', header=None)\n",
    "    weights_teddy_c = pd.read_csv('Teddy/weights_for_C.txt', delimiter='\\t', header=None)\n",
    "    weights_teddy_d = pd.read_csv('Teddy/weights_for_D.txt', delimiter='\\t', header=None)\n",
    "    \n",
    "    return weights_happy_b, weights_happy_c, weights_happy_d, weights_teddy_b, weights_teddy_c, weights_teddy_d"
   ]
  },
  {
   "cell_type": "code",
   "execution_count": null,
   "metadata": {},
   "outputs": [],
   "source": []
  }
 ],
 "metadata": {
  "kernelspec": {
   "display_name": "base",
   "language": "python",
   "name": "python3"
  },
  "language_info": {
   "codemirror_mode": {
    "name": "ipython",
    "version": 3
   },
   "file_extension": ".py",
   "mimetype": "text/x-python",
   "name": "python",
   "nbconvert_exporter": "python",
   "pygments_lexer": "ipython3",
   "version": "3.11.5"
  }
 },
 "nbformat": 4,
 "nbformat_minor": 2
}
